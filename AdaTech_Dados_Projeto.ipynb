{
  "cells": [
    {
      "cell_type": "markdown",
      "metadata": {
        "colab_type": "text",
        "id": "view-in-github"
      },
      "source": [
        "<a href=\"https://colab.research.google.com/github/leticiaholsback/Projeto-T-cnicas-de-Programa-o-I/blob/main/AdaTech_Dados_Projeto.ipynb\" target=\"_parent\"><img src=\"https://colab.research.google.com/assets/colab-badge.svg\" alt=\"Open In Colab\"/></a>"
      ]
    },
    {
      "cell_type": "markdown",
      "metadata": {},
      "source": [
        "Atenção nos comentários da próxima célula\n",
        "\n",
        "_Usando jupyter no ambiente local certifique-se de instalar o python corretamente e instalar as bibliotecas_"
      ]
    },
    {
      "cell_type": "code",
      "execution_count": 58,
      "metadata": {
        "colab": {
          "base_uri": "https://localhost:8080/"
        },
        "id": "Tq-QEkX5JXNn",
        "outputId": "34ee6e2c-86fb-4cd3-8200-abcd3b004cc3"
      },
      "outputs": [],
      "source": [
        "#Importa o pandas\n",
        "import pandas as pd\n",
        "#Importa o numpy\n",
        "import numpy as np\n",
        "\n",
        "#Importa o drive do google colab (TIRE O COMENTARIO DA LINHA ABAIXO PARA USAR NO COLAB)\n",
        "#from google.colab import drive\n",
        "\n",
        "#Monta o drive (TIRE O COMENTARIO DA LINHA ABAIXO PARA USAR NO COLAB)\n",
        "#drive.mount('/content/drive')\n",
        "\n",
        "#Especifica o caminho do csv no drive (TIRE O COMENTARIO DA LINHA ABAIXO PARA USAR NO COLAB)\n",
        "#caminho_csv = (\"/content/drive/MyDrive/Colab Notebooks/Relatorio_Cursos_Bolsistas.csv\")\n",
        "\n",
        "#Especifica o caminho do csv no AMBIENTE LOCAL (COMENTE A LINHA ABAIXO PARA USAR NO COLAB)\n",
        "caminho_csv = (\"Relatorio_Cursos_Bolsistas.csv\")\n",
        "\n",
        "#Lê o csv e atribui o valor df a ele\n",
        "df = pd.read_csv(caminho_csv)\n",
        "#Faz uma cópia do dataframe\n",
        "df1 = df.copy()\n",
        "\n"
      ]
    },
    {
      "cell_type": "code",
      "execution_count": 59,
      "metadata": {
        "colab": {
          "base_uri": "https://localhost:8080/",
          "height": 912
        },
        "id": "hjYvVfGa95tb",
        "outputId": "3581295b-4824-46f8-b3b5-c77c033fb6f5"
      },
      "outputs": [
        {
          "data": {
            "text/html": [
              "<div>\n",
              "<style scoped>\n",
              "    .dataframe tbody tr th:only-of-type {\n",
              "        vertical-align: middle;\n",
              "    }\n",
              "\n",
              "    .dataframe tbody tr th {\n",
              "        vertical-align: top;\n",
              "    }\n",
              "\n",
              "    .dataframe thead th {\n",
              "        text-align: right;\n",
              "    }\n",
              "</style>\n",
              "<table border=\"1\" class=\"dataframe\">\n",
              "  <thead>\n",
              "    <tr style=\"text-align: right;\">\n",
              "      <th></th>\n",
              "      <th>NOME_SUBTIPO_DE_CURSOS</th>\n",
              "      <th>CODIGO_CURSO</th>\n",
              "      <th>CURSO</th>\n",
              "      <th>EIXO_TECNOLOGICO</th>\n",
              "      <th>MODALIDADE</th>\n",
              "      <th>CARGA_HORARIA_CURSO</th>\n",
              "      <th>SITUACAO_ATIVO</th>\n",
              "      <th>CODIGO_UNIDADE_DE_ENSINO</th>\n",
              "      <th>UNIDADE_DE_ENSINO</th>\n",
              "      <th>UF</th>\n",
              "      <th>CODIGO_MUNICIPIO</th>\n",
              "      <th>MUNICIPIO</th>\n",
              "      <th>INICIO</th>\n",
              "      <th>DESISTENCIA</th>\n",
              "      <th>QTDADE_ALUNOS</th>\n",
              "    </tr>\n",
              "  </thead>\n",
              "  <tbody>\n",
              "    <tr>\n",
              "      <th>0</th>\n",
              "      <td>Graduação</td>\n",
              "      <td>6</td>\n",
              "      <td>Enfermagem</td>\n",
              "      <td>Ambiente e Saúde</td>\n",
              "      <td>Educação Presencial</td>\n",
              "      <td>1200</td>\n",
              "      <td>t</td>\n",
              "      <td>47955</td>\n",
              "      <td>FACULDADE PITÁGORAS DE MACEIÓ - UNIDADE SEDE</td>\n",
              "      <td>AL</td>\n",
              "      <td>2704302</td>\n",
              "      <td>Maceió</td>\n",
              "      <td>2022.0</td>\n",
              "      <td>1.0</td>\n",
              "      <td>20.0</td>\n",
              "    </tr>\n",
              "    <tr>\n",
              "      <th>1</th>\n",
              "      <td>Graduação</td>\n",
              "      <td>57</td>\n",
              "      <td>Marketing</td>\n",
              "      <td>Gestão e Negócios</td>\n",
              "      <td>Educação Presencial</td>\n",
              "      <td>800</td>\n",
              "      <td>t</td>\n",
              "      <td>47098</td>\n",
              "      <td>CENTRO UNIVERSITÁRIO INTERNACIONAL UNINTER - P...</td>\n",
              "      <td>PR</td>\n",
              "      <td>4106902</td>\n",
              "      <td>Curitiba</td>\n",
              "      <td>2024.0</td>\n",
              "      <td>0.0</td>\n",
              "      <td>30.0</td>\n",
              "    </tr>\n",
              "    <tr>\n",
              "      <th>2</th>\n",
              "      <td>Técnico</td>\n",
              "      <td>18</td>\n",
              "      <td>Técnico em Nutrição e Dietética</td>\n",
              "      <td>Ambiente e Saúde</td>\n",
              "      <td>Educação Presencial</td>\n",
              "      <td>1200</td>\n",
              "      <td>t</td>\n",
              "      <td>24227</td>\n",
              "      <td>CENTRO UNIVERSITÁRIO MAURÍCIO DE NASSAU - CAMP...</td>\n",
              "      <td>PE</td>\n",
              "      <td>2611606</td>\n",
              "      <td>Recife</td>\n",
              "      <td>2023.0</td>\n",
              "      <td>0.0</td>\n",
              "      <td>30.0</td>\n",
              "    </tr>\n",
              "    <tr>\n",
              "      <th>3</th>\n",
              "      <td>Graduação</td>\n",
              "      <td>50</td>\n",
              "      <td>ADMINISTRAÇÃO</td>\n",
              "      <td>Gestão e Negócios</td>\n",
              "      <td>Educação Presencial</td>\n",
              "      <td>800</td>\n",
              "      <td>a</td>\n",
              "      <td>47002</td>\n",
              "      <td>FACULDADE TRÊS MARIAS (FTM) - PEDRO AFONSO (PO...</td>\n",
              "      <td>TO</td>\n",
              "      <td>1716505</td>\n",
              "      <td>Pedro Afonso</td>\n",
              "      <td>2023.0</td>\n",
              "      <td>0.0</td>\n",
              "      <td>30.0</td>\n",
              "    </tr>\n",
              "    <tr>\n",
              "      <th>4</th>\n",
              "      <td>Técnico</td>\n",
              "      <td>51</td>\n",
              "      <td>Técnico em Comércio</td>\n",
              "      <td>Gestão e Negócios</td>\n",
              "      <td>Educação Presencial</td>\n",
              "      <td>800</td>\n",
              "      <td>t</td>\n",
              "      <td>46490</td>\n",
              "      <td>FACULDADE FAMART - UNIDADE SEDE</td>\n",
              "      <td>MG</td>\n",
              "      <td>3133808</td>\n",
              "      <td>Itaúna</td>\n",
              "      <td>2021.0</td>\n",
              "      <td>3.0</td>\n",
              "      <td>40.0</td>\n",
              "    </tr>\n",
              "    <tr>\n",
              "      <th>...</th>\n",
              "      <td>...</td>\n",
              "      <td>...</td>\n",
              "      <td>...</td>\n",
              "      <td>...</td>\n",
              "      <td>...</td>\n",
              "      <td>...</td>\n",
              "      <td>...</td>\n",
              "      <td>...</td>\n",
              "      <td>...</td>\n",
              "      <td>...</td>\n",
              "      <td>...</td>\n",
              "      <td>...</td>\n",
              "      <td>...</td>\n",
              "      <td>...</td>\n",
              "      <td>...</td>\n",
              "    </tr>\n",
              "    <tr>\n",
              "      <th>806</th>\n",
              "      <td>Técnico</td>\n",
              "      <td>232050</td>\n",
              "      <td>Técnico em Cuidados de Idosos</td>\n",
              "      <td>Ambiente e Saúde</td>\n",
              "      <td>EAD</td>\n",
              "      <td>800</td>\n",
              "      <td>t</td>\n",
              "      <td>50239</td>\n",
              "      <td>CENTRO UNIVERSITÁRIO DE CIÊNCIAS E EMPREENDEDO...</td>\n",
              "      <td>BA</td>\n",
              "      <td>2928703</td>\n",
              "      <td>Santo Antônio de Jesus</td>\n",
              "      <td>2020.0</td>\n",
              "      <td>1.0</td>\n",
              "      <td>60.0</td>\n",
              "    </tr>\n",
              "    <tr>\n",
              "      <th>807</th>\n",
              "      <td>Técnico</td>\n",
              "      <td>51</td>\n",
              "      <td>Técnico em Comércio</td>\n",
              "      <td>Gestão e Negócios</td>\n",
              "      <td>Educação Presencial</td>\n",
              "      <td>800</td>\n",
              "      <td>t</td>\n",
              "      <td>46955</td>\n",
              "      <td>FACULDADE DESCOMPLICA  - campus principal</td>\n",
              "      <td>RJ</td>\n",
              "      <td>3304557</td>\n",
              "      <td>Rio de Janeiro</td>\n",
              "      <td>2020.0</td>\n",
              "      <td>0.0</td>\n",
              "      <td>NaN</td>\n",
              "    </tr>\n",
              "    <tr>\n",
              "      <th>808</th>\n",
              "      <td>Técnico</td>\n",
              "      <td>378732</td>\n",
              "      <td>TÉCNICO EM DESIGN GRÁFICO</td>\n",
              "      <td>Produção Cultural e Design</td>\n",
              "      <td>EAD</td>\n",
              "      <td>1000</td>\n",
              "      <td>t</td>\n",
              "      <td>24461</td>\n",
              "      <td>UNIVERSIDADE CRUZEIRO DO SUL - CAMPUS: UNIDADE...</td>\n",
              "      <td>SP</td>\n",
              "      <td>3550308</td>\n",
              "      <td>São Paulo</td>\n",
              "      <td>2020.0</td>\n",
              "      <td>2.0</td>\n",
              "      <td>10.0</td>\n",
              "    </tr>\n",
              "    <tr>\n",
              "      <th>809</th>\n",
              "      <td>Técnico</td>\n",
              "      <td>131</td>\n",
              "      <td>Técnico em Artesanato</td>\n",
              "      <td>Produção Cultural e Design</td>\n",
              "      <td>Educação Presencial</td>\n",
              "      <td>800</td>\n",
              "      <td>t</td>\n",
              "      <td>50137</td>\n",
              "      <td>FACULDADE DE CIÊNCIAS HUMANAS ESUDA</td>\n",
              "      <td>PE</td>\n",
              "      <td>2611606</td>\n",
              "      <td>Recife</td>\n",
              "      <td>2020.0</td>\n",
              "      <td>5.0</td>\n",
              "      <td>20.0</td>\n",
              "    </tr>\n",
              "    <tr>\n",
              "      <th>810</th>\n",
              "      <td>Técnico</td>\n",
              "      <td>56</td>\n",
              "      <td>Técnico em Logística</td>\n",
              "      <td>Gestão e Negócios</td>\n",
              "      <td>Educação Presencial</td>\n",
              "      <td>800</td>\n",
              "      <td>t</td>\n",
              "      <td>41986</td>\n",
              "      <td>CENTRO UNIVERSITÁRIO DE PATOS DE MINAS - UNIDA...</td>\n",
              "      <td>MG</td>\n",
              "      <td>3148004</td>\n",
              "      <td>Patos de Minas</td>\n",
              "      <td>2020.0</td>\n",
              "      <td>2.0</td>\n",
              "      <td>30.0</td>\n",
              "    </tr>\n",
              "  </tbody>\n",
              "</table>\n",
              "<p>811 rows × 15 columns</p>\n",
              "</div>"
            ],
            "text/plain": [
              "    NOME_SUBTIPO_DE_CURSOS  CODIGO_CURSO                            CURSO  \\\n",
              "0                Graduação             6                       Enfermagem   \n",
              "1                Graduação            57                        Marketing   \n",
              "2                  Técnico            18  Técnico em Nutrição e Dietética   \n",
              "3                Graduação            50                    ADMINISTRAÇÃO   \n",
              "4                  Técnico            51              Técnico em Comércio   \n",
              "..                     ...           ...                              ...   \n",
              "806                Técnico        232050    Técnico em Cuidados de Idosos   \n",
              "807                Técnico            51              Técnico em Comércio   \n",
              "808                Técnico        378732        TÉCNICO EM DESIGN GRÁFICO   \n",
              "809                Técnico           131            Técnico em Artesanato   \n",
              "810                Técnico            56             Técnico em Logística   \n",
              "\n",
              "               EIXO_TECNOLOGICO           MODALIDADE  CARGA_HORARIA_CURSO  \\\n",
              "0              Ambiente e Saúde  Educação Presencial                 1200   \n",
              "1             Gestão e Negócios  Educação Presencial                  800   \n",
              "2              Ambiente e Saúde  Educação Presencial                 1200   \n",
              "3             Gestão e Negócios  Educação Presencial                  800   \n",
              "4             Gestão e Negócios  Educação Presencial                  800   \n",
              "..                          ...                  ...                  ...   \n",
              "806            Ambiente e Saúde                  EAD                  800   \n",
              "807           Gestão e Negócios  Educação Presencial                  800   \n",
              "808  Produção Cultural e Design                  EAD                 1000   \n",
              "809  Produção Cultural e Design  Educação Presencial                  800   \n",
              "810           Gestão e Negócios  Educação Presencial                  800   \n",
              "\n",
              "    SITUACAO_ATIVO  CODIGO_UNIDADE_DE_ENSINO  \\\n",
              "0                t                     47955   \n",
              "1                t                     47098   \n",
              "2                t                     24227   \n",
              "3                a                     47002   \n",
              "4                t                     46490   \n",
              "..             ...                       ...   \n",
              "806              t                     50239   \n",
              "807              t                     46955   \n",
              "808              t                     24461   \n",
              "809              t                     50137   \n",
              "810              t                     41986   \n",
              "\n",
              "                                     UNIDADE_DE_ENSINO  UF  CODIGO_MUNICIPIO  \\\n",
              "0         FACULDADE PITÁGORAS DE MACEIÓ - UNIDADE SEDE  AL           2704302   \n",
              "1    CENTRO UNIVERSITÁRIO INTERNACIONAL UNINTER - P...  PR           4106902   \n",
              "2    CENTRO UNIVERSITÁRIO MAURÍCIO DE NASSAU - CAMP...  PE           2611606   \n",
              "3    FACULDADE TRÊS MARIAS (FTM) - PEDRO AFONSO (PO...  TO           1716505   \n",
              "4                      FACULDADE FAMART - UNIDADE SEDE  MG           3133808   \n",
              "..                                                 ...  ..               ...   \n",
              "806  CENTRO UNIVERSITÁRIO DE CIÊNCIAS E EMPREENDEDO...  BA           2928703   \n",
              "807          FACULDADE DESCOMPLICA  - campus principal  RJ           3304557   \n",
              "808  UNIVERSIDADE CRUZEIRO DO SUL - CAMPUS: UNIDADE...  SP           3550308   \n",
              "809                FACULDADE DE CIÊNCIAS HUMANAS ESUDA  PE           2611606   \n",
              "810  CENTRO UNIVERSITÁRIO DE PATOS DE MINAS - UNIDA...  MG           3148004   \n",
              "\n",
              "                  MUNICIPIO  INICIO  DESISTENCIA  QTDADE_ALUNOS  \n",
              "0                    Maceió  2022.0          1.0           20.0  \n",
              "1                  Curitiba  2024.0          0.0           30.0  \n",
              "2                    Recife  2023.0          0.0           30.0  \n",
              "3              Pedro Afonso  2023.0          0.0           30.0  \n",
              "4                    Itaúna  2021.0          3.0           40.0  \n",
              "..                      ...     ...          ...            ...  \n",
              "806  Santo Antônio de Jesus  2020.0          1.0           60.0  \n",
              "807          Rio de Janeiro  2020.0          0.0            NaN  \n",
              "808               São Paulo  2020.0          2.0           10.0  \n",
              "809                  Recife  2020.0          5.0           20.0  \n",
              "810          Patos de Minas  2020.0          2.0           30.0  \n",
              "\n",
              "[811 rows x 15 columns]"
            ]
          },
          "execution_count": 59,
          "metadata": {},
          "output_type": "execute_result"
        }
      ],
      "source": [
        "#visualizando todo o banco de Dados\n",
        "df1"
      ]
    },
    {
      "cell_type": "code",
      "execution_count": 3,
      "metadata": {
        "colab": {
          "base_uri": "https://localhost:8080/",
          "height": 469
        },
        "id": "DyPIeUn7OMWB",
        "outputId": "b148d474-27fd-4ebf-a5c3-bf29d6059b21"
      },
      "outputs": [
        {
          "data": {
            "text/html": [
              "<div>\n",
              "<style scoped>\n",
              "    .dataframe tbody tr th:only-of-type {\n",
              "        vertical-align: middle;\n",
              "    }\n",
              "\n",
              "    .dataframe tbody tr th {\n",
              "        vertical-align: top;\n",
              "    }\n",
              "\n",
              "    .dataframe thead th {\n",
              "        text-align: right;\n",
              "    }\n",
              "</style>\n",
              "<table border=\"1\" class=\"dataframe\">\n",
              "  <thead>\n",
              "    <tr style=\"text-align: right;\">\n",
              "      <th></th>\n",
              "      <th>NOME_SUBTIPO_DE_CURSOS</th>\n",
              "      <th>CODIGO_CURSO</th>\n",
              "      <th>CURSO</th>\n",
              "      <th>EIXO_TECNOLOGICO</th>\n",
              "      <th>MODALIDADE</th>\n",
              "      <th>CARGA_HORARIA_CURSO</th>\n",
              "      <th>SITUACAO_ATIVO</th>\n",
              "      <th>CODIGO_UNIDADE_DE_ENSINO</th>\n",
              "      <th>UNIDADE_DE_ENSINO</th>\n",
              "      <th>UF</th>\n",
              "      <th>CODIGO_MUNICIPIO</th>\n",
              "      <th>MUNICIPIO</th>\n",
              "      <th>INICIO</th>\n",
              "      <th>DESISTENCIA</th>\n",
              "      <th>QTDADE_ALUNOS</th>\n",
              "    </tr>\n",
              "  </thead>\n",
              "  <tbody>\n",
              "    <tr>\n",
              "      <th>0</th>\n",
              "      <td>Graduação</td>\n",
              "      <td>6</td>\n",
              "      <td>Enfermagem</td>\n",
              "      <td>Ambiente e Saúde</td>\n",
              "      <td>Educação Presencial</td>\n",
              "      <td>1200</td>\n",
              "      <td>t</td>\n",
              "      <td>47955</td>\n",
              "      <td>FACULDADE PITÁGORAS DE MACEIÓ - UNIDADE SEDE</td>\n",
              "      <td>AL</td>\n",
              "      <td>2704302</td>\n",
              "      <td>Maceió</td>\n",
              "      <td>2022.0</td>\n",
              "      <td>1.0</td>\n",
              "      <td>20.0</td>\n",
              "    </tr>\n",
              "    <tr>\n",
              "      <th>1</th>\n",
              "      <td>Graduação</td>\n",
              "      <td>57</td>\n",
              "      <td>Marketing</td>\n",
              "      <td>Gestão e Negócios</td>\n",
              "      <td>Educação Presencial</td>\n",
              "      <td>800</td>\n",
              "      <td>t</td>\n",
              "      <td>47098</td>\n",
              "      <td>CENTRO UNIVERSITÁRIO INTERNACIONAL UNINTER - P...</td>\n",
              "      <td>PR</td>\n",
              "      <td>4106902</td>\n",
              "      <td>Curitiba</td>\n",
              "      <td>2024.0</td>\n",
              "      <td>0.0</td>\n",
              "      <td>30.0</td>\n",
              "    </tr>\n",
              "    <tr>\n",
              "      <th>2</th>\n",
              "      <td>Técnico</td>\n",
              "      <td>18</td>\n",
              "      <td>Técnico em Nutrição e Dietética</td>\n",
              "      <td>Ambiente e Saúde</td>\n",
              "      <td>Educação Presencial</td>\n",
              "      <td>1200</td>\n",
              "      <td>t</td>\n",
              "      <td>24227</td>\n",
              "      <td>CENTRO UNIVERSITÁRIO MAURÍCIO DE NASSAU - CAMP...</td>\n",
              "      <td>PE</td>\n",
              "      <td>2611606</td>\n",
              "      <td>Recife</td>\n",
              "      <td>2023.0</td>\n",
              "      <td>0.0</td>\n",
              "      <td>30.0</td>\n",
              "    </tr>\n",
              "    <tr>\n",
              "      <th>3</th>\n",
              "      <td>Graduação</td>\n",
              "      <td>50</td>\n",
              "      <td>ADMINISTRAÇÃO</td>\n",
              "      <td>Gestão e Negócios</td>\n",
              "      <td>Educação Presencial</td>\n",
              "      <td>800</td>\n",
              "      <td>a</td>\n",
              "      <td>47002</td>\n",
              "      <td>FACULDADE TRÊS MARIAS (FTM) - PEDRO AFONSO (PO...</td>\n",
              "      <td>TO</td>\n",
              "      <td>1716505</td>\n",
              "      <td>Pedro Afonso</td>\n",
              "      <td>2023.0</td>\n",
              "      <td>0.0</td>\n",
              "      <td>30.0</td>\n",
              "    </tr>\n",
              "    <tr>\n",
              "      <th>4</th>\n",
              "      <td>Técnico</td>\n",
              "      <td>51</td>\n",
              "      <td>Técnico em Comércio</td>\n",
              "      <td>Gestão e Negócios</td>\n",
              "      <td>Educação Presencial</td>\n",
              "      <td>800</td>\n",
              "      <td>t</td>\n",
              "      <td>46490</td>\n",
              "      <td>FACULDADE FAMART - UNIDADE SEDE</td>\n",
              "      <td>MG</td>\n",
              "      <td>3133808</td>\n",
              "      <td>Itaúna</td>\n",
              "      <td>2021.0</td>\n",
              "      <td>3.0</td>\n",
              "      <td>40.0</td>\n",
              "    </tr>\n",
              "  </tbody>\n",
              "</table>\n",
              "</div>"
            ],
            "text/plain": [
              "  NOME_SUBTIPO_DE_CURSOS  CODIGO_CURSO                            CURSO  \\\n",
              "0              Graduação             6                       Enfermagem   \n",
              "1              Graduação            57                        Marketing   \n",
              "2                Técnico            18  Técnico em Nutrição e Dietética   \n",
              "3              Graduação            50                    ADMINISTRAÇÃO   \n",
              "4                Técnico            51              Técnico em Comércio   \n",
              "\n",
              "    EIXO_TECNOLOGICO           MODALIDADE  CARGA_HORARIA_CURSO SITUACAO_ATIVO  \\\n",
              "0   Ambiente e Saúde  Educação Presencial                 1200              t   \n",
              "1  Gestão e Negócios  Educação Presencial                  800              t   \n",
              "2   Ambiente e Saúde  Educação Presencial                 1200              t   \n",
              "3  Gestão e Negócios  Educação Presencial                  800              a   \n",
              "4  Gestão e Negócios  Educação Presencial                  800              t   \n",
              "\n",
              "   CODIGO_UNIDADE_DE_ENSINO  \\\n",
              "0                     47955   \n",
              "1                     47098   \n",
              "2                     24227   \n",
              "3                     47002   \n",
              "4                     46490   \n",
              "\n",
              "                                   UNIDADE_DE_ENSINO  UF  CODIGO_MUNICIPIO  \\\n",
              "0       FACULDADE PITÁGORAS DE MACEIÓ - UNIDADE SEDE  AL           2704302   \n",
              "1  CENTRO UNIVERSITÁRIO INTERNACIONAL UNINTER - P...  PR           4106902   \n",
              "2  CENTRO UNIVERSITÁRIO MAURÍCIO DE NASSAU - CAMP...  PE           2611606   \n",
              "3  FACULDADE TRÊS MARIAS (FTM) - PEDRO AFONSO (PO...  TO           1716505   \n",
              "4                    FACULDADE FAMART - UNIDADE SEDE  MG           3133808   \n",
              "\n",
              "      MUNICIPIO  INICIO  DESISTENCIA  QTDADE_ALUNOS  \n",
              "0        Maceió  2022.0          1.0           20.0  \n",
              "1      Curitiba  2024.0          0.0           30.0  \n",
              "2        Recife  2023.0          0.0           30.0  \n",
              "3  Pedro Afonso  2023.0          0.0           30.0  \n",
              "4        Itaúna  2021.0          3.0           40.0  "
            ]
          },
          "execution_count": 3,
          "metadata": {},
          "output_type": "execute_result"
        }
      ],
      "source": [
        "#visualizando as primeiras linhas\n",
        "df1.head()"
      ]
    },
    {
      "cell_type": "code",
      "execution_count": 4,
      "metadata": {
        "colab": {
          "base_uri": "https://localhost:8080/"
        },
        "id": "aYZUTEKavjZZ",
        "outputId": "9a2c9e6a-fa78-45af-b719-4a157f812a95"
      },
      "outputs": [
        {
          "data": {
            "text/plain": [
              "array(['Ambiente e Saúde', 'Gestão e Negócios',\n",
              "       'Informação e Comunicação', 'Turismo, Hospitalidade e Lazer',\n",
              "       'Desenvolvimento Educacional e Social',\n",
              "       'Produção Cultural e Design', 'Controle e Processos Industriais',\n",
              "       'Infraestrutura', 'Segurança', 'Produção Industrial',\n",
              "       'Produção Alimentícia', 'Recursos Naturais'], dtype=object)"
            ]
          },
          "execution_count": 4,
          "metadata": {},
          "output_type": "execute_result"
        }
      ],
      "source": [
        "#visualizando os valores unicos em Eixo Tecnologico\n",
        "df1['EIXO_TECNOLOGICO'].unique()\n"
      ]
    },
    {
      "cell_type": "code",
      "execution_count": 5,
      "metadata": {
        "id": "y1GrkDEN0U-X"
      },
      "outputs": [],
      "source": [
        "#Criação de um Dicionário para Eixo Tecnológico e Situação do Curso\n",
        "EIXO_TECNOLOGICO = {\n",
        "    1: 'Ambiente e Saúde',\n",
        "    2: 'Gestão e Negócios',\n",
        "    3: 'Informação e Comunicação',\n",
        "    4: 'Turismo, Hospitalidade e Lazer',\n",
        "    5: 'Desenvolvimento Educacional e Social',\n",
        "    6: 'Produção Cultural e Design',\n",
        "    7: 'Controle e Processos Industriais',\n",
        "    8: 'Infraestrutura',\n",
        "    9: 'Produção Industrial',\n",
        "    10: 'Produção Alimentícia',\n",
        "    11: 'Segurança'\n",
        "}\n",
        "\n",
        "SITUACAO_ATIVO = {'ATIVO': 'a',\n",
        "                  'TRANCADO': 't'}"
      ]
    },
    {
      "cell_type": "code",
      "execution_count": 5,
      "metadata": {
        "colab": {
          "base_uri": "https://localhost:8080/"
        },
        "id": "4mEHRPbfy5OA",
        "outputId": "9501e23d-ad7d-4ddc-eb59-93364f52378e"
      },
      "outputs": [
        {
          "name": "stdout",
          "output_type": "stream",
          "text": [
            "<class 'pandas.core.frame.DataFrame'>\n",
            "RangeIndex: 811 entries, 0 to 810\n",
            "Data columns (total 13 columns):\n",
            " #   Column                    Non-Null Count  Dtype  \n",
            "---  ------                    --------------  -----  \n",
            " 0   NOME_SUBTIPO_DE_CURSOS    811 non-null    object \n",
            " 1   CODIGO_CURSO              811 non-null    int64  \n",
            " 2   CURSO                     811 non-null    object \n",
            " 3   EIXO_TECNOLOGICO          811 non-null    object \n",
            " 4   MODALIDADE                805 non-null    object \n",
            " 5   CARGA_HORARIA_CURSO       811 non-null    int64  \n",
            " 6   SITUACAO_ATIVO            811 non-null    object \n",
            " 7   CODIGO_UNIDADE_DE_ENSINO  811 non-null    int64  \n",
            " 8   UNIDADE_DE_ENSINO         811 non-null    object \n",
            " 9   UF                        797 non-null    object \n",
            " 10  CODIGO_MUNICIPIO          811 non-null    int64  \n",
            " 11  MUNICIPIO                 811 non-null    object \n",
            " 12  INICIO                    808 non-null    float64\n",
            "dtypes: float64(1), int64(4), object(8)\n",
            "memory usage: 82.5+ KB\n"
          ]
        }
      ],
      "source": [
        "#para ver que tipo de dado compõe cada coluna do banco\n",
        "df1.info()"
      ]
    },
    {
      "cell_type": "markdown",
      "metadata": {
        "id": "7x_N9KpNOCSn"
      },
      "source": [
        "# **Estatística Descritiva**"
      ]
    },
    {
      "cell_type": "code",
      "execution_count": null,
      "metadata": {
        "colab": {
          "base_uri": "https://localhost:8080/",
          "height": 425
        },
        "id": "DKV9H6kaOBwr",
        "outputId": "d872725a-44fb-4f23-c197-6cac937e93c8"
      },
      "outputs": [
        {
          "data": {
            "text/html": [
              "\n",
              "  <div id=\"df-c550accc-f768-4d8d-b6f1-9673051c70c6\" class=\"colab-df-container\">\n",
              "    <div>\n",
              "<style scoped>\n",
              "    .dataframe tbody tr th:only-of-type {\n",
              "        vertical-align: middle;\n",
              "    }\n",
              "\n",
              "    .dataframe tbody tr th {\n",
              "        vertical-align: top;\n",
              "    }\n",
              "\n",
              "    .dataframe thead th {\n",
              "        text-align: right;\n",
              "    }\n",
              "</style>\n",
              "<table border=\"1\" class=\"dataframe\">\n",
              "  <thead>\n",
              "    <tr style=\"text-align: right;\">\n",
              "      <th></th>\n",
              "      <th>EIXO_TECNOLOGICO</th>\n",
              "      <th>count</th>\n",
              "      <th>mean</th>\n",
              "      <th>std</th>\n",
              "      <th>min</th>\n",
              "      <th>25%</th>\n",
              "      <th>50%</th>\n",
              "      <th>75%</th>\n",
              "      <th>max</th>\n",
              "    </tr>\n",
              "  </thead>\n",
              "  <tbody>\n",
              "    <tr>\n",
              "      <th>0</th>\n",
              "      <td>Ambiente e Saúde</td>\n",
              "      <td>170.0</td>\n",
              "      <td>1150.59</td>\n",
              "      <td>132.01</td>\n",
              "      <td>800.0</td>\n",
              "      <td>1200.0</td>\n",
              "      <td>1200.0</td>\n",
              "      <td>1200.0</td>\n",
              "      <td>1200.0</td>\n",
              "    </tr>\n",
              "    <tr>\n",
              "      <th>1</th>\n",
              "      <td>Controle e Processos Industriais</td>\n",
              "      <td>19.0</td>\n",
              "      <td>1200.00</td>\n",
              "      <td>0.00</td>\n",
              "      <td>1200.0</td>\n",
              "      <td>1200.0</td>\n",
              "      <td>1200.0</td>\n",
              "      <td>1200.0</td>\n",
              "      <td>1200.0</td>\n",
              "    </tr>\n",
              "    <tr>\n",
              "      <th>2</th>\n",
              "      <td>Desenvolvimento Educacional e Social</td>\n",
              "      <td>16.0</td>\n",
              "      <td>1075.00</td>\n",
              "      <td>191.49</td>\n",
              "      <td>800.0</td>\n",
              "      <td>800.0</td>\n",
              "      <td>1200.0</td>\n",
              "      <td>1200.0</td>\n",
              "      <td>1200.0</td>\n",
              "    </tr>\n",
              "    <tr>\n",
              "      <th>3</th>\n",
              "      <td>Gestão e Negócios</td>\n",
              "      <td>491.0</td>\n",
              "      <td>800.00</td>\n",
              "      <td>0.00</td>\n",
              "      <td>800.0</td>\n",
              "      <td>800.0</td>\n",
              "      <td>800.0</td>\n",
              "      <td>800.0</td>\n",
              "      <td>800.0</td>\n",
              "    </tr>\n",
              "    <tr>\n",
              "      <th>4</th>\n",
              "      <td>Informação e Comunicação</td>\n",
              "      <td>55.0</td>\n",
              "      <td>1076.36</td>\n",
              "      <td>98.06</td>\n",
              "      <td>1000.0</td>\n",
              "      <td>1000.0</td>\n",
              "      <td>1000.0</td>\n",
              "      <td>1200.0</td>\n",
              "      <td>1200.0</td>\n",
              "    </tr>\n",
              "    <tr>\n",
              "      <th>5</th>\n",
              "      <td>Infraestrutura</td>\n",
              "      <td>7.0</td>\n",
              "      <td>1142.86</td>\n",
              "      <td>97.59</td>\n",
              "      <td>1000.0</td>\n",
              "      <td>1100.0</td>\n",
              "      <td>1200.0</td>\n",
              "      <td>1200.0</td>\n",
              "      <td>1200.0</td>\n",
              "    </tr>\n",
              "    <tr>\n",
              "      <th>6</th>\n",
              "      <td>Produção Alimentícia</td>\n",
              "      <td>7.0</td>\n",
              "      <td>800.00</td>\n",
              "      <td>0.00</td>\n",
              "      <td>800.0</td>\n",
              "      <td>800.0</td>\n",
              "      <td>800.0</td>\n",
              "      <td>800.0</td>\n",
              "      <td>800.0</td>\n",
              "    </tr>\n",
              "    <tr>\n",
              "      <th>7</th>\n",
              "      <td>Produção Cultural e Design</td>\n",
              "      <td>13.0</td>\n",
              "      <td>984.62</td>\n",
              "      <td>190.81</td>\n",
              "      <td>800.0</td>\n",
              "      <td>800.0</td>\n",
              "      <td>1000.0</td>\n",
              "      <td>1200.0</td>\n",
              "      <td>1200.0</td>\n",
              "    </tr>\n",
              "    <tr>\n",
              "      <th>8</th>\n",
              "      <td>Produção Industrial</td>\n",
              "      <td>10.0</td>\n",
              "      <td>960.00</td>\n",
              "      <td>206.56</td>\n",
              "      <td>800.0</td>\n",
              "      <td>800.0</td>\n",
              "      <td>800.0</td>\n",
              "      <td>1200.0</td>\n",
              "      <td>1200.0</td>\n",
              "    </tr>\n",
              "    <tr>\n",
              "      <th>9</th>\n",
              "      <td>Recursos Naturais</td>\n",
              "      <td>4.0</td>\n",
              "      <td>1200.00</td>\n",
              "      <td>0.00</td>\n",
              "      <td>1200.0</td>\n",
              "      <td>1200.0</td>\n",
              "      <td>1200.0</td>\n",
              "      <td>1200.0</td>\n",
              "      <td>1200.0</td>\n",
              "    </tr>\n",
              "    <tr>\n",
              "      <th>10</th>\n",
              "      <td>Segurança</td>\n",
              "      <td>6.0</td>\n",
              "      <td>1200.00</td>\n",
              "      <td>0.00</td>\n",
              "      <td>1200.0</td>\n",
              "      <td>1200.0</td>\n",
              "      <td>1200.0</td>\n",
              "      <td>1200.0</td>\n",
              "      <td>1200.0</td>\n",
              "    </tr>\n",
              "    <tr>\n",
              "      <th>11</th>\n",
              "      <td>Turismo, Hospitalidade e Lazer</td>\n",
              "      <td>13.0</td>\n",
              "      <td>800.00</td>\n",
              "      <td>0.00</td>\n",
              "      <td>800.0</td>\n",
              "      <td>800.0</td>\n",
              "      <td>800.0</td>\n",
              "      <td>800.0</td>\n",
              "      <td>800.0</td>\n",
              "    </tr>\n",
              "  </tbody>\n",
              "</table>\n",
              "</div>\n",
              "    <div class=\"colab-df-buttons\">\n",
              "\n",
              "  <div class=\"colab-df-container\">\n",
              "    <button class=\"colab-df-convert\" onclick=\"convertToInteractive('df-c550accc-f768-4d8d-b6f1-9673051c70c6')\"\n",
              "            title=\"Convert this dataframe to an interactive table.\"\n",
              "            style=\"display:none;\">\n",
              "\n",
              "  <svg xmlns=\"http://www.w3.org/2000/svg\" height=\"24px\" viewBox=\"0 -960 960 960\">\n",
              "    <path d=\"M120-120v-720h720v720H120Zm60-500h600v-160H180v160Zm220 220h160v-160H400v160Zm0 220h160v-160H400v160ZM180-400h160v-160H180v160Zm440 0h160v-160H620v160ZM180-180h160v-160H180v160Zm440 0h160v-160H620v160Z\"/>\n",
              "  </svg>\n",
              "    </button>\n",
              "\n",
              "  <style>\n",
              "    .colab-df-container {\n",
              "      display:flex;\n",
              "      gap: 12px;\n",
              "    }\n",
              "\n",
              "    .colab-df-convert {\n",
              "      background-color: #E8F0FE;\n",
              "      border: none;\n",
              "      border-radius: 50%;\n",
              "      cursor: pointer;\n",
              "      display: none;\n",
              "      fill: #1967D2;\n",
              "      height: 32px;\n",
              "      padding: 0 0 0 0;\n",
              "      width: 32px;\n",
              "    }\n",
              "\n",
              "    .colab-df-convert:hover {\n",
              "      background-color: #E2EBFA;\n",
              "      box-shadow: 0px 1px 2px rgba(60, 64, 67, 0.3), 0px 1px 3px 1px rgba(60, 64, 67, 0.15);\n",
              "      fill: #174EA6;\n",
              "    }\n",
              "\n",
              "    .colab-df-buttons div {\n",
              "      margin-bottom: 4px;\n",
              "    }\n",
              "\n",
              "    [theme=dark] .colab-df-convert {\n",
              "      background-color: #3B4455;\n",
              "      fill: #D2E3FC;\n",
              "    }\n",
              "\n",
              "    [theme=dark] .colab-df-convert:hover {\n",
              "      background-color: #434B5C;\n",
              "      box-shadow: 0px 1px 3px 1px rgba(0, 0, 0, 0.15);\n",
              "      filter: drop-shadow(0px 1px 2px rgba(0, 0, 0, 0.3));\n",
              "      fill: #FFFFFF;\n",
              "    }\n",
              "  </style>\n",
              "\n",
              "    <script>\n",
              "      const buttonEl =\n",
              "        document.querySelector('#df-c550accc-f768-4d8d-b6f1-9673051c70c6 button.colab-df-convert');\n",
              "      buttonEl.style.display =\n",
              "        google.colab.kernel.accessAllowed ? 'block' : 'none';\n",
              "\n",
              "      async function convertToInteractive(key) {\n",
              "        const element = document.querySelector('#df-c550accc-f768-4d8d-b6f1-9673051c70c6');\n",
              "        const dataTable =\n",
              "          await google.colab.kernel.invokeFunction('convertToInteractive',\n",
              "                                                    [key], {});\n",
              "        if (!dataTable) return;\n",
              "\n",
              "        const docLinkHtml = 'Like what you see? Visit the ' +\n",
              "          '<a target=\"_blank\" href=https://colab.research.google.com/notebooks/data_table.ipynb>data table notebook</a>'\n",
              "          + ' to learn more about interactive tables.';\n",
              "        element.innerHTML = '';\n",
              "        dataTable['output_type'] = 'display_data';\n",
              "        await google.colab.output.renderOutput(dataTable, element);\n",
              "        const docLink = document.createElement('div');\n",
              "        docLink.innerHTML = docLinkHtml;\n",
              "        element.appendChild(docLink);\n",
              "      }\n",
              "    </script>\n",
              "  </div>\n",
              "\n",
              "\n",
              "<div id=\"df-0fa8f566-d070-470f-a10a-4afe1dd1c2b7\">\n",
              "  <button class=\"colab-df-quickchart\" onclick=\"quickchart('df-0fa8f566-d070-470f-a10a-4afe1dd1c2b7')\"\n",
              "            title=\"Suggest charts\"\n",
              "            style=\"display:none;\">\n",
              "\n",
              "<svg xmlns=\"http://www.w3.org/2000/svg\" height=\"24px\"viewBox=\"0 0 24 24\"\n",
              "     width=\"24px\">\n",
              "    <g>\n",
              "        <path d=\"M19 3H5c-1.1 0-2 .9-2 2v14c0 1.1.9 2 2 2h14c1.1 0 2-.9 2-2V5c0-1.1-.9-2-2-2zM9 17H7v-7h2v7zm4 0h-2V7h2v10zm4 0h-2v-4h2v4z\"/>\n",
              "    </g>\n",
              "</svg>\n",
              "  </button>\n",
              "\n",
              "<style>\n",
              "  .colab-df-quickchart {\n",
              "      --bg-color: #E8F0FE;\n",
              "      --fill-color: #1967D2;\n",
              "      --hover-bg-color: #E2EBFA;\n",
              "      --hover-fill-color: #174EA6;\n",
              "      --disabled-fill-color: #AAA;\n",
              "      --disabled-bg-color: #DDD;\n",
              "  }\n",
              "\n",
              "  [theme=dark] .colab-df-quickchart {\n",
              "      --bg-color: #3B4455;\n",
              "      --fill-color: #D2E3FC;\n",
              "      --hover-bg-color: #434B5C;\n",
              "      --hover-fill-color: #FFFFFF;\n",
              "      --disabled-bg-color: #3B4455;\n",
              "      --disabled-fill-color: #666;\n",
              "  }\n",
              "\n",
              "  .colab-df-quickchart {\n",
              "    background-color: var(--bg-color);\n",
              "    border: none;\n",
              "    border-radius: 50%;\n",
              "    cursor: pointer;\n",
              "    display: none;\n",
              "    fill: var(--fill-color);\n",
              "    height: 32px;\n",
              "    padding: 0;\n",
              "    width: 32px;\n",
              "  }\n",
              "\n",
              "  .colab-df-quickchart:hover {\n",
              "    background-color: var(--hover-bg-color);\n",
              "    box-shadow: 0 1px 2px rgba(60, 64, 67, 0.3), 0 1px 3px 1px rgba(60, 64, 67, 0.15);\n",
              "    fill: var(--button-hover-fill-color);\n",
              "  }\n",
              "\n",
              "  .colab-df-quickchart-complete:disabled,\n",
              "  .colab-df-quickchart-complete:disabled:hover {\n",
              "    background-color: var(--disabled-bg-color);\n",
              "    fill: var(--disabled-fill-color);\n",
              "    box-shadow: none;\n",
              "  }\n",
              "\n",
              "  .colab-df-spinner {\n",
              "    border: 2px solid var(--fill-color);\n",
              "    border-color: transparent;\n",
              "    border-bottom-color: var(--fill-color);\n",
              "    animation:\n",
              "      spin 1s steps(1) infinite;\n",
              "  }\n",
              "\n",
              "  @keyframes spin {\n",
              "    0% {\n",
              "      border-color: transparent;\n",
              "      border-bottom-color: var(--fill-color);\n",
              "      border-left-color: var(--fill-color);\n",
              "    }\n",
              "    20% {\n",
              "      border-color: transparent;\n",
              "      border-left-color: var(--fill-color);\n",
              "      border-top-color: var(--fill-color);\n",
              "    }\n",
              "    30% {\n",
              "      border-color: transparent;\n",
              "      border-left-color: var(--fill-color);\n",
              "      border-top-color: var(--fill-color);\n",
              "      border-right-color: var(--fill-color);\n",
              "    }\n",
              "    40% {\n",
              "      border-color: transparent;\n",
              "      border-right-color: var(--fill-color);\n",
              "      border-top-color: var(--fill-color);\n",
              "    }\n",
              "    60% {\n",
              "      border-color: transparent;\n",
              "      border-right-color: var(--fill-color);\n",
              "    }\n",
              "    80% {\n",
              "      border-color: transparent;\n",
              "      border-right-color: var(--fill-color);\n",
              "      border-bottom-color: var(--fill-color);\n",
              "    }\n",
              "    90% {\n",
              "      border-color: transparent;\n",
              "      border-bottom-color: var(--fill-color);\n",
              "    }\n",
              "  }\n",
              "</style>\n",
              "\n",
              "  <script>\n",
              "    async function quickchart(key) {\n",
              "      const quickchartButtonEl =\n",
              "        document.querySelector('#' + key + ' button');\n",
              "      quickchartButtonEl.disabled = true;  // To prevent multiple clicks.\n",
              "      quickchartButtonEl.classList.add('colab-df-spinner');\n",
              "      try {\n",
              "        const charts = await google.colab.kernel.invokeFunction(\n",
              "            'suggestCharts', [key], {});\n",
              "      } catch (error) {\n",
              "        console.error('Error during call to suggestCharts:', error);\n",
              "      }\n",
              "      quickchartButtonEl.classList.remove('colab-df-spinner');\n",
              "      quickchartButtonEl.classList.add('colab-df-quickchart-complete');\n",
              "    }\n",
              "    (() => {\n",
              "      let quickchartButtonEl =\n",
              "        document.querySelector('#df-0fa8f566-d070-470f-a10a-4afe1dd1c2b7 button');\n",
              "      quickchartButtonEl.style.display =\n",
              "        google.colab.kernel.accessAllowed ? 'block' : 'none';\n",
              "    })();\n",
              "  </script>\n",
              "</div>\n",
              "\n",
              "  <div id=\"id_69d0cc88-6018-4060-a653-aebec447d854\">\n",
              "    <style>\n",
              "      .colab-df-generate {\n",
              "        background-color: #E8F0FE;\n",
              "        border: none;\n",
              "        border-radius: 50%;\n",
              "        cursor: pointer;\n",
              "        display: none;\n",
              "        fill: #1967D2;\n",
              "        height: 32px;\n",
              "        padding: 0 0 0 0;\n",
              "        width: 32px;\n",
              "      }\n",
              "\n",
              "      .colab-df-generate:hover {\n",
              "        background-color: #E2EBFA;\n",
              "        box-shadow: 0px 1px 2px rgba(60, 64, 67, 0.3), 0px 1px 3px 1px rgba(60, 64, 67, 0.15);\n",
              "        fill: #174EA6;\n",
              "      }\n",
              "\n",
              "      [theme=dark] .colab-df-generate {\n",
              "        background-color: #3B4455;\n",
              "        fill: #D2E3FC;\n",
              "      }\n",
              "\n",
              "      [theme=dark] .colab-df-generate:hover {\n",
              "        background-color: #434B5C;\n",
              "        box-shadow: 0px 1px 3px 1px rgba(0, 0, 0, 0.15);\n",
              "        filter: drop-shadow(0px 1px 2px rgba(0, 0, 0, 0.3));\n",
              "        fill: #FFFFFF;\n",
              "      }\n",
              "    </style>\n",
              "    <button class=\"colab-df-generate\" onclick=\"generateWithVariable('estatistica_carga_horaria')\"\n",
              "            title=\"Generate code using this dataframe.\"\n",
              "            style=\"display:none;\">\n",
              "\n",
              "  <svg xmlns=\"http://www.w3.org/2000/svg\" height=\"24px\"viewBox=\"0 0 24 24\"\n",
              "       width=\"24px\">\n",
              "    <path d=\"M7,19H8.4L18.45,9,17,7.55,7,17.6ZM5,21V16.75L18.45,3.32a2,2,0,0,1,2.83,0l1.4,1.43a1.91,1.91,0,0,1,.58,1.4,1.91,1.91,0,0,1-.58,1.4L9.25,21ZM18.45,9,17,7.55Zm-12,3A5.31,5.31,0,0,0,4.9,8.1,5.31,5.31,0,0,0,1,6.5,5.31,5.31,0,0,0,4.9,4.9,5.31,5.31,0,0,0,6.5,1,5.31,5.31,0,0,0,8.1,4.9,5.31,5.31,0,0,0,12,6.5,5.46,5.46,0,0,0,6.5,12Z\"/>\n",
              "  </svg>\n",
              "    </button>\n",
              "    <script>\n",
              "      (() => {\n",
              "      const buttonEl =\n",
              "        document.querySelector('#id_69d0cc88-6018-4060-a653-aebec447d854 button.colab-df-generate');\n",
              "      buttonEl.style.display =\n",
              "        google.colab.kernel.accessAllowed ? 'block' : 'none';\n",
              "\n",
              "      buttonEl.onclick = () => {\n",
              "        google.colab.notebook.generateWithVariable('estatistica_carga_horaria');\n",
              "      }\n",
              "      })();\n",
              "    </script>\n",
              "  </div>\n",
              "\n",
              "    </div>\n",
              "  </div>\n"
            ],
            "text/plain": [
              "                        EIXO_TECNOLOGICO  count     mean     std     min  \\\n",
              "0                       Ambiente e Saúde  170.0  1150.59  132.01   800.0   \n",
              "1       Controle e Processos Industriais   19.0  1200.00    0.00  1200.0   \n",
              "2   Desenvolvimento Educacional e Social   16.0  1075.00  191.49   800.0   \n",
              "3                      Gestão e Negócios  491.0   800.00    0.00   800.0   \n",
              "4               Informação e Comunicação   55.0  1076.36   98.06  1000.0   \n",
              "5                         Infraestrutura    7.0  1142.86   97.59  1000.0   \n",
              "6                   Produção Alimentícia    7.0   800.00    0.00   800.0   \n",
              "7             Produção Cultural e Design   13.0   984.62  190.81   800.0   \n",
              "8                    Produção Industrial   10.0   960.00  206.56   800.0   \n",
              "9                      Recursos Naturais    4.0  1200.00    0.00  1200.0   \n",
              "10                             Segurança    6.0  1200.00    0.00  1200.0   \n",
              "11        Turismo, Hospitalidade e Lazer   13.0   800.00    0.00   800.0   \n",
              "\n",
              "       25%     50%     75%     max  \n",
              "0   1200.0  1200.0  1200.0  1200.0  \n",
              "1   1200.0  1200.0  1200.0  1200.0  \n",
              "2    800.0  1200.0  1200.0  1200.0  \n",
              "3    800.0   800.0   800.0   800.0  \n",
              "4   1000.0  1000.0  1200.0  1200.0  \n",
              "5   1100.0  1200.0  1200.0  1200.0  \n",
              "6    800.0   800.0   800.0   800.0  \n",
              "7    800.0  1000.0  1200.0  1200.0  \n",
              "8    800.0   800.0  1200.0  1200.0  \n",
              "9   1200.0  1200.0  1200.0  1200.0  \n",
              "10  1200.0  1200.0  1200.0  1200.0  \n",
              "11   800.0   800.0   800.0   800.0  "
            ]
          },
          "execution_count": 16,
          "metadata": {},
          "output_type": "execute_result"
        }
      ],
      "source": [
        "estatistica_carga_horaria = df1.groupby('EIXO_TECNOLOGICO')['CARGA_HORARIA_CURSO'].describe().round(2).reset_index()\n",
        "estatistica_carga_horaria\n",
        "\n",
        "\n"
      ]
    },
    {
      "cell_type": "code",
      "execution_count": null,
      "metadata": {
        "id": "j8Ycxy8vy6gs"
      },
      "outputs": [],
      "source": []
    },
    {
      "cell_type": "code",
      "execution_count": 6,
      "metadata": {
        "colab": {
          "base_uri": "https://localhost:8080/"
        },
        "id": "RWvYdbv3zS4c",
        "outputId": "231a3a96-40ed-4eb8-c7bf-99da5ecc0c27"
      },
      "outputs": [
        {
          "data": {
            "text/plain": [
              "array(['Enfermagem', 'Marketing', 'Técnico em Nutrição e Dietética',\n",
              "       'ADMINISTRAÇÃO', 'Técnico em Comércio',\n",
              "       'Graduação em Recursos Humanos', 'Comércio Exterior',\n",
              "       'Técnico em Contabilidade', 'Técnico em Informática para Internet',\n",
              "       'TÉCNICO EM SERVIÇOS DE RESTAURANTE E BAR',\n",
              "       'Técnico em Informática', 'TÉCNICO EM BRINQUEDOTECA',\n",
              "       'Graduação em Lazer', 'Técnico em Eventos',\n",
              "       'Técnico em Cuidados de Idosos', 'Técnico em Serviços Jurídicos',\n",
              "       'Técnico em Manutenção e Suporte em Informática',\n",
              "       'Técnico em Vendas', 'DESENVOLVIMENTO DE SISTEMAS', 'Farmácia',\n",
              "       'Graduação em Estética', 'Publicidade',\n",
              "       'Técnico em Análises Clínicas', 'TÉCNICO EM DESIGN DE INTERIORES',\n",
              "       'Técnico em Serviços Públicos',\n",
              "       'Técnico em Programação de Jogos Digitais',\n",
              "       'Graduação em Eletroeletrônica', 'Técnico em Estética',\n",
              "       'Técnico em Transações Imobiliárias',\n",
              "       'Técnico em Vigilância em Saúde', 'Técnico em Soldagem',\n",
              "       'Radiologia', 'Técnico em Produção de Áudio e Vídeo',\n",
              "       'Técnico em Alimentação Escolar', 'Técnico em Logística',\n",
              "       'TÉCNICO EM INSTRUMENTO MUSICAL', 'TÉCNICO EM DEPENDÊNCIA QUÍMICA',\n",
              "       'Técnico em Redes de Computadores', 'Graduação em Informática',\n",
              "       'Graduação em Comércio Exterior', 'Técnico em Massoterapia',\n",
              "       'Técnico em Transporte de Cargas',\n",
              "       'Técnico em Tradução e Interpretação de Libras',\n",
              "       'Graduação em Mecânica', 'Técnico em Eletrônica',\n",
              "       'Técnico em Eletrotécnica', 'Técnico em Segurança do Trabalho',\n",
              "       'Técnico em Química', 'Técnico em Agente Comunitário de Saúde',\n",
              "       'Técnico em Cooperativismo', 'Técnico em Finanças',\n",
              "       'Técnico em Multimeios Didáticos', 'Técnico em Confeitaria',\n",
              "       'Técnico em Automação Industrial', 'Técnico em Saneamento',\n",
              "       'TÉCNICO EM SECRETARIA ESCOLAR', 'Técnico em Radiologia',\n",
              "       'Técnico em Agronegócio', 'Técnico em Seguros',\n",
              "       'Técnico em Secretariado',\n",
              "       'TÉCNICO EM PLANEJAMENTO E CONTROLE DA PRODUÇÃO',\n",
              "       'Técnico em Meio Ambiente', 'Técnico em Edificações',\n",
              "       'TÉCNICO EM GERÊNCIA EM SAÚDE',\n",
              "       'Técnico em Produção de Materiais Didáticos Bilíngues em Libras/Língua Portuguesa',\n",
              "       'Técnico em Eletroeletrônica',\n",
              "       'TÉCNICO EM DESENVOLVIMENTO COMUNITÁRIO',\n",
              "       'Técnico em Órteses e Próteses', 'Técnico em Computação Gráfica',\n",
              "       'Técnico em Lazer', 'Técnico em Saúde Bucal',\n",
              "       'Técnico em Qualidade', 'Técnico em Condomínio',\n",
              "       'Técnico em Design de Móveis', 'Técnico em Panificação',\n",
              "       'TÉCNICO EM GASTRONOMIA', 'Técnico em Podologia',\n",
              "       'TÉCNICO EM IMAGEM PESSOAL', 'Técnico em Hospedagem',\n",
              "       'Técnico em Biocombustíveis', 'Biotecnologia',\n",
              "       'Técnico em Eletromecânica', 'Técnico em Multimídia',\n",
              "       'TÉCNICO EM PAISAGISMO', 'Técnico em Desenho de Construção Civil',\n",
              "       'Técnico em Manutenção de Máquinas Pesadas',\n",
              "       'TÉCNICO EM COMPOSIÇÃO E ARRANJO', 'TÉCNICO EM DESIGN GRÁFICO',\n",
              "       'Técnico em Artesanato'], dtype=object)"
            ]
          },
          "execution_count": 6,
          "metadata": {},
          "output_type": "execute_result"
        }
      ],
      "source": [
        "df1['CURSO'].unique()\n"
      ]
    },
    {
      "cell_type": "code",
      "execution_count": 7,
      "metadata": {
        "id": "oSD0WG22zSYp"
      },
      "outputs": [
        {
          "name": "stdout",
          "output_type": "stream",
          "text": [
            "Número total de cursos: 89\n"
          ]
        }
      ],
      "source": [
        "num_cursos = df1['CURSO'].nunique()\n",
        "print(f\"Número total de cursos: {num_cursos}\")"
      ]
    },
    {
      "cell_type": "code",
      "execution_count": 8,
      "metadata": {
        "id": "BsZH3XHtzR8S"
      },
      "outputs": [
        {
          "name": "stdout",
          "output_type": "stream",
          "text": [
            "Modalidades de cursos oferecidas: ['Educação Presencial' 'EAD' nan]\n"
          ]
        }
      ],
      "source": [
        "modalidades = df1['MODALIDADE'].unique()\n",
        "print(f\"Modalidades de cursos oferecidas: {modalidades}\")"
      ]
    },
    {
      "cell_type": "code",
      "execution_count": 9,
      "metadata": {
        "id": "Ox79puOGy6b7"
      },
      "outputs": [
        {
          "name": "stdout",
          "output_type": "stream",
          "text": [
            "Carga horária média por modalidade:\n",
            "MODALIDADE\n",
            "EAD                    912.00000\n",
            "Educação Presencial    921.41844\n",
            "Name: CARGA_HORARIA_CURSO, dtype: float64\n"
          ]
        }
      ],
      "source": [
        "carga_horaria_media = df1.groupby('MODALIDADE')['CARGA_HORARIA_CURSO'].mean()\n",
        "print(\"Carga horária média por modalidade:\")\n",
        "print(carga_horaria_media)\n"
      ]
    },
    {
      "cell_type": "code",
      "execution_count": 10,
      "metadata": {
        "id": "OikPp1KDy6Wo"
      },
      "outputs": [
        {
          "name": "stdout",
          "output_type": "stream",
          "text": [
            "Distribuição geográfica:\n",
            "     UF              MUNICIPIO  Quantidade de Cursos\n",
            "0    AC             Rio Branco                     2\n",
            "1    AL                 Maceió                     1\n",
            "2    AM               Iranduba                     2\n",
            "3    AM            Itacoatiara                     3\n",
            "4    AM             Manacapuru                     3\n",
            "..   ..                    ...                   ...\n",
            "211  SP  São João da Boa Vista                     2\n",
            "212  SP              São Paulo                    54\n",
            "213  TO              Araguaína                     1\n",
            "214  TO                 Palmas                     3\n",
            "215  TO           Pedro Afonso                     7\n",
            "\n",
            "[216 rows x 3 columns]\n"
          ]
        }
      ],
      "source": [
        "distribuicao_geografica = df1.groupby(['UF', 'MUNICIPIO']).size().reset_index(name='Quantidade de Cursos')\n",
        "print(\"Distribuição geográfica:\")\n",
        "print(distribuicao_geografica)"
      ]
    },
    {
      "cell_type": "code",
      "execution_count": 70,
      "metadata": {
        "id": "TIiePrmny6Nl"
      },
      "outputs": [
        {
          "name": "stdout",
          "output_type": "stream",
          "text": [
            "Status dos cursos:\n",
            "SITUACAO_ATIVO\n",
            "Finalizado    593\n",
            "Ativo         218\n",
            "Name: count, dtype: int64\n"
          ]
        }
      ],
      "source": [
        "status_cursos = df1['SITUACAO_ATIVO'].value_counts()\n",
        "print(\"Status dos cursos:\")\n",
        "print(status_cursos)"
      ]
    },
    {
      "cell_type": "code",
      "execution_count": 23,
      "metadata": {},
      "outputs": [
        {
          "name": "stdout",
          "output_type": "stream",
          "text": [
            "Tendência temporal:\n",
            "INICIO\n",
            "2020.0    182\n",
            "2021.0    181\n",
            "2022.0    203\n",
            "2023.0    156\n",
            "2024.0     86\n",
            "Name: CURSO, dtype: int64\n"
          ]
        }
      ],
      "source": [
        "tendencia_temporal = df1.groupby('INICIO')['CURSO'].count()\n",
        "print(\"Tendência temporal:\")\n",
        "print(tendencia_temporal)"
      ]
    },
    {
      "cell_type": "markdown",
      "metadata": {},
      "source": [
        "# **Visualizações**"
      ]
    },
    {
      "cell_type": "code",
      "execution_count": 16,
      "metadata": {},
      "outputs": [],
      "source": [
        "import matplotlib.pyplot as plt"
      ]
    },
    {
      "cell_type": "code",
      "execution_count": 15,
      "metadata": {},
      "outputs": [
        {
          "data": {
            "image/png": "[encoded data removed]",
            "text/plain": [
              "<Figure size 1200x600 with 1 Axes>"
            ]
          },
          "metadata": {},
          "output_type": "display_data"
        }
      ],
      "source": [
        "# Exemplo de gráfico de dispersão para distribuição geográfica por UF\n",
        "plt.figure(figsize=(12, 6))\n",
        "plt.scatter(distribuicao_geografica['UF'], distribuicao_geografica['Quantidade de Cursos'], s=50, alpha=0.5)\n",
        "plt.title('Distribuição Geográfica dos Cursos')\n",
        "plt.xlabel('UF')\n",
        "plt.ylabel('Quantidade de Cursos')\n",
        "plt.xticks(rotation=45, ha='right')  # Rotacionar os rótulos do eixo x para melhor legibilidade\n",
        "plt.grid(True)\n",
        "plt.tight_layout()\n",
        "plt.show()"
      ]
    },
    {
      "cell_type": "code",
      "execution_count": 63,
      "metadata": {},
      "outputs": [
        {
          "data": {
            "text/plain": [
              "<Axes: xlabel='INICIO'>"
            ]
          },
          "execution_count": 63,
          "metadata": {},
          "output_type": "execute_result"
        },
        {
          "data": {
            "image/png": "[encoded data removed]",
            "text/plain": [
              "<Figure size 640x480 with 1 Axes>"
            ]
          },
          "metadata": {},
          "output_type": "display_data"
        }
      ],
      "source": [
        "df1['INICIO'].value_counts().plot(kind='bar')"
      ]
    },
    {
      "cell_type": "code",
      "execution_count": 62,
      "metadata": {},
      "outputs": [
        {
          "data": {
            "text/plain": [
              "<Axes: xlabel='UF'>"
            ]
          },
          "execution_count": 62,
          "metadata": {},
          "output_type": "execute_result"
        },
        {
          "data": {
            "image/png": "[encoded data removed]",
            "text/plain": [
              "<Figure size 640x480 with 1 Axes>"
            ]
          },
          "metadata": {},
          "output_type": "display_data"
        }
      ],
      "source": [
        "#vISUALIZAÇÃO EM BARRAS POR UF\n",
        "df1['UF'].value_counts().plot(kind='bar')"
      ]
    },
    {
      "cell_type": "code",
      "execution_count": 64,
      "metadata": {},
      "outputs": [
        {
          "data": {
            "text/plain": [
              "<Axes: xlabel='QTDADE_ALUNOS'>"
            ]
          },
          "execution_count": 64,
          "metadata": {},
          "output_type": "execute_result"
        },
        {
          "data": {
            "image/png": "[encoded data removed]",
            "text/plain": [
              "<Figure size 640x480 with 1 Axes>"
            ]
          },
          "metadata": {},
          "output_type": "display_data"
        }
      ],
      "source": [
        "df1['QTDADE_ALUNOS'].value_counts().plot(kind='bar')"
      ]
    },
    {
      "cell_type": "code",
      "execution_count": 65,
      "metadata": {},
      "outputs": [
        {
          "data": {
            "text/plain": [
              "<Axes: ylabel='count'>"
            ]
          },
          "execution_count": 65,
          "metadata": {},
          "output_type": "execute_result"
        },
        {
          "data": {
            "image/png": "[encoded data removed]",
            "text/plain": [
              "<Figure size 640x480 with 1 Axes>"
            ]
          },
          "metadata": {},
          "output_type": "display_data"
        }
      ],
      "source": [
        "df1['INICIO'].value_counts().plot(kind='pie')"
      ]
    },
    {
      "cell_type": "code",
      "execution_count": 66,
      "metadata": {},
      "outputs": [
        {
          "data": {
            "text/plain": [
              "<Axes: ylabel='count'>"
            ]
          },
          "execution_count": 66,
          "metadata": {},
          "output_type": "execute_result"
        },
        {
          "data": {
            "image/png": "[encoded data removed]",
            "text/plain": [
              "<Figure size 640x480 with 1 Axes>"
            ]
          },
          "metadata": {},
          "output_type": "display_data"
        }
      ],
      "source": [
        "df1['SITUACAO_ATIVO'].value_counts().plot(kind='pie')"
      ]
    },
    {
      "cell_type": "markdown",
      "metadata": {},
      "source": [
        "Aqui pudemos ver que os valores de Ativos estão nomeados como 'a' e Finalizados como 't', no código abaixo vamos alterar os nomes para uma análise mais clara"
      ]
    },
    {
      "cell_type": "code",
      "execution_count": 68,
      "metadata": {},
      "outputs": [
        {
          "data": {
            "text/plain": [
              "SITUACAO_ATIVO\n",
              "Finalizado    593\n",
              "Ativo         218\n",
              "Name: count, dtype: int64"
            ]
          },
          "execution_count": 68,
          "metadata": {},
          "output_type": "execute_result"
        }
      ],
      "source": [
        "#modificando nomes ddos valores da coluna, se eu usar o inplace já deixo salvo\n",
        "df1['SITUACAO_ATIVO'].replace('t', 'Finalizado', inplace=True)\n",
        "df1['SITUACAO_ATIVO'].replace('a', 'Ativo', inplace=True)\n",
        "\n",
        "df1['SITUACAO_ATIVO'].value_counts()"
      ]
    },
    {
      "cell_type": "code",
      "execution_count": 69,
      "metadata": {},
      "outputs": [
        {
          "data": {
            "text/plain": [
              "<Axes: ylabel='count'>"
            ]
          },
          "execution_count": 69,
          "metadata": {},
          "output_type": "execute_result"
        },
        {
          "data": {
            "image/png": "[encoded data removed]",
            "text/plain": [
              "<Figure size 640x480 with 1 Axes>"
            ]
          },
          "metadata": {},
          "output_type": "display_data"
        }
      ],
      "source": [
        "#nova visualização com Mudança do nome \n",
        "df1['SITUACAO_ATIVO'].value_counts().plot(kind='pie')"
      ]
    }
  ],
  "metadata": {
    "colab": {
      "include_colab_link": true,
      "provenance": []
    },
    "kernelspec": {
      "display_name": "Python 3",
      "name": "python3"
    },
    "language_info": {
      "codemirror_mode": {
        "name": "ipython",
        "version": 3
      },
      "file_extension": ".py",
      "mimetype": "text/x-python",
      "name": "python",
      "nbconvert_exporter": "python",
      "pygments_lexer": "ipython3",
      "version": "3.11.3"
    }
  },
  "nbformat": 4,
  "nbformat_minor": 0
}
